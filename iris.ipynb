{
 "cells": [
  {
   "cell_type": "code",
   "execution_count": 3,
   "id": "187c36ae-d3f6-476b-9a22-be32df286c1c",
   "metadata": {},
   "outputs": [
    {
     "name": "stdout",
     "output_type": "stream",
     "text": [
      "Model saved as iris_model.pkl\n"
     ]
    }
   ],
   "source": [
    "from sklearn.datasets import load_iris\n",
    "from sklearn.ensemble import RandomForestClassifier\n",
    "import joblib\n",
    "\n",
    "#Load dataset\n",
    "iris=load_iris()\n",
    "X,y=iris.data,iris.target\n",
    "\n",
    "#Train model\n",
    "model=RandomForestClassifier()\n",
    "model.fit(X,y)\n",
    "\n",
    "#Save model\n",
    "joblib.dump(model,'iris_model.pkl')\n",
    "print(\"Model saved as iris_model.pkl\")"
   ]
  },
  {
   "cell_type": "code",
   "execution_count": null,
   "id": "1ed1ebd0-afcd-4bfb-9221-c94f7e3c0f61",
   "metadata": {},
   "outputs": [],
   "source": []
  }
 ],
 "metadata": {
  "kernelspec": {
   "display_name": "Python [conda env:base] *",
   "language": "python",
   "name": "conda-base-py"
  },
  "language_info": {
   "codemirror_mode": {
    "name": "ipython",
    "version": 3
   },
   "file_extension": ".py",
   "mimetype": "text/x-python",
   "name": "python",
   "nbconvert_exporter": "python",
   "pygments_lexer": "ipython3",
   "version": "3.12.7"
  }
 },
 "nbformat": 4,
 "nbformat_minor": 5
}
