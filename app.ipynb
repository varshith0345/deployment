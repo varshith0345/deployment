{
 "cells": [
  {
   "cell_type": "code",
   "execution_count": 9,
   "id": "0e428c6b-768b-461b-89e2-9e6b4b9fe91b",
   "metadata": {},
   "outputs": [
    {
     "ename": "SyntaxError",
     "evalue": "invalid syntax (1832675698.py, line 12)",
     "output_type": "error",
     "traceback": [
      "\u001b[1;36m  Cell \u001b[1;32mIn[9], line 12\u001b[1;36m\u001b[0m\n\u001b[1;33m    features=[float(request.from[f'feature{i}']) for i in range(1,5)]\u001b[0m\n\u001b[1;37m                            ^\u001b[0m\n\u001b[1;31mSyntaxError\u001b[0m\u001b[1;31m:\u001b[0m invalid syntax\n"
     ]
    }
   ],
   "source": [
    "from flask import Flask,render_template,request\n",
    "import joblib\n",
    "import numpy as np\n",
    "app=Flask(__name__)\n",
    "model=joblib.load(\"iris_model.pkl\")\n",
    "@app.route('/')\n",
    "def home():\n",
    "    return render_template(\"home.html\")\n",
    "@app.route('/predict',methods=[\"POST\"])\n",
    "def predict():\n",
    "    try:\n",
    "        features=[float(request.from[f'feature{i}']) for i in range(1,5)]\n",
    "    except ValueError:\n",
    "        return render_template('result.html',prediction=\"Invalid input.Please enter numeric values.\")\n",
    "    prediction=model.predict([features])[0]\n",
    "    class_names=[\"Setosa\",\"Versicolor\",\"Virginica\"]\n",
    "    result=class_names[prediction]\n",
    "    return render_template('result.html',prediction=result)\n",
    "\n",
    "if __name__==\"__main__\":\n",
    "    app.run(debug=True)"
   ]
  },
  {
   "cell_type": "code",
   "execution_count": null,
   "id": "bdad0093-ca4f-48fd-999e-594ff551f881",
   "metadata": {},
   "outputs": [],
   "source": []
  }
 ],
 "metadata": {
  "kernelspec": {
   "display_name": "Python [conda env:base] *",
   "language": "python",
   "name": "conda-base-py"
  },
  "language_info": {
   "codemirror_mode": {
    "name": "ipython",
    "version": 3
   },
   "file_extension": ".py",
   "mimetype": "text/x-python",
   "name": "python",
   "nbconvert_exporter": "python",
   "pygments_lexer": "ipython3",
   "version": "3.12.7"
  }
 },
 "nbformat": 4,
 "nbformat_minor": 5
}
